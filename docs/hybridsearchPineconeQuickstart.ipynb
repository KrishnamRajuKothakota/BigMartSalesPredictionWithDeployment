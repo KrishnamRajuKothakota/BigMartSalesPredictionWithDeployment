{
  "cells": [
    {
      "cell_type": "code",
      "source": [
        "from pinecone import Pinecone\n",
        "import pinecone\n",
        "import openai\n",
        "\n",
        "pc= Pinecone(api_key=\"pcsk_65KdEB_3qYK83nZKETac9MTrVM2Sgtyb9Jw3HSRfG7FPJGZnbZ38TVTX1uXMYJTj2fTLk1\")\n",
        "\n",
        "index_name = \"quickstart-notebook\"\n",
        "\n",
        "if not pc.has_index(name=index_name):\n",
        "    pc.create_index_for_model(\n",
        "        name=index_name,\n",
        "        cloud=\"aws\",\n",
        "        region=\"us-east-1\",\n",
        "        embed={\n",
        "            \"model\":\"llama-text-embed-v2\",\n",
        "            \"field_map\":{\"text\": \"chunk_text\"}\n",
        "        }\n",
        "    )\n",
        "index = pc.Index(index_name)\n",
        "\n",
        "\n",
        "docs = [\n",
        "    {\"id\": \"1\", \"chunk_text\": \"Pinecone provides vector database as a service.\"},\n",
        "    {\"id\": \"2\", \"chunk_text\": \"Vector search is crucial for semantic similarity.\"},\n",
        "    {\"id\": \"3\", \"chunk_text\": \"Lexical search relies on keyword matching.\"}\n",
        "]\n",
        "\n",
        "index.upsert_records(\n",
        "    namespace=\"example-namespace\",\n",
        "    records=docs\n",
        ")"
      ],
      "metadata": {
        "id": "l58T7A5eH7fO"
      },
      "execution_count": 89,
      "outputs": []
    },
    {
      "cell_type": "code",
      "source": [
        "import time\n",
        "time.sleep(10)\n",
        "\n",
        "# View stats for the index\n",
        "stats = index.describe_index_stats()\n",
        "stats"
      ],
      "metadata": {
        "id": "YejIZAgiJ-3W",
        "outputId": "a5510352-2bfe-4633-ad84-7a52bd15c015",
        "colab": {
          "base_uri": "https://localhost:8080/"
        }
      },
      "execution_count": 90,
      "outputs": [
        {
          "output_type": "execute_result",
          "data": {
            "text/plain": [
              "{'dimension': 1024,\n",
              " 'index_fullness': 0.0,\n",
              " 'metric': 'cosine',\n",
              " 'namespaces': {'example-namespace': {'vector_count': 3}},\n",
              " 'total_vector_count': 3,\n",
              " 'vector_type': 'dense'}"
            ]
          },
          "metadata": {},
          "execution_count": 90
        }
      ]
    },
    {
      "cell_type": "code",
      "source": [
        "def print_results(search_results):\n",
        "    for hit in search_results['result']['hits']:\n",
        "        print(f\"id: {hit['_id']:<5} | score: {round(hit['_score'], 3):<5} | text: {hit['fields']['chunk_text']:<50}\")\n"
      ],
      "metadata": {
        "id": "noygIn_JKQOm"
      },
      "execution_count": 94,
      "outputs": []
    },
    {
      "cell_type": "code",
      "source": [
        "from pinecone import SearchQuery, SearchRerank\n",
        "\n",
        "# Define the query\n",
        "query = \"Famous historical structures and monuments\"\n",
        "\n",
        "# Search the dense index\n",
        "results = index.search(\n",
        "    namespace=\"example-namespace\",\n",
        "    query=SearchQuery(\n",
        "        top_k=10,\n",
        "        inputs={'text': query}\n",
        "    )\n",
        ")\n",
        "\n",
        "print_results(results)"
      ],
      "metadata": {
        "id": "Pvah5PuaKTGN",
        "outputId": "50aca3e1-eadb-4e6f-e5c7-83960078af30",
        "colab": {
          "base_uri": "https://localhost:8080/"
        }
      },
      "execution_count": 95,
      "outputs": [
        {
          "output_type": "stream",
          "name": "stdout",
          "text": [
            "id: 1     | score: 0.026 | text: Pinecone provides vector database as a service.   \n",
            "id: 2     | score: -0.03 | text: Vector search is crucial for semantic similarity. \n",
            "id: 3     | score: -0.033 | text: Lexical search relies on keyword matching.        \n"
          ]
        }
      ]
    }
  ],
  "metadata": {
    "colab": {
      "provenance": []
    },
    "kernelspec": {
      "display_name": "Python 3 (ipykernel)",
      "language": "python",
      "name": "python3"
    },
    "language_info": {
      "codemirror_mode": {
        "name": "ipython",
        "version": 3
      },
      "file_extension": ".py",
      "mimetype": "text/x-python",
      "name": "python",
      "nbconvert_exporter": "python",
      "pygments_lexer": "ipython3",
      "version": "3.12.9"
    }
  },
  "nbformat": 4,
  "nbformat_minor": 0
}